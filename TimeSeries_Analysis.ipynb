{
 "cells": [
  {
   "cell_type": "markdown",
   "metadata": {},
   "source": [
    "### Importing Libaries"
   ]
  },
  {
   "cell_type": "code",
   "execution_count": 2,
   "metadata": {},
   "outputs": [],
   "source": [
    "import math\n",
    "import numpy as np\n",
    "import pandas as pd\n",
    "import seaborn as sns\n",
    "import matplotlib.pyplot as plt\n",
    "from colorama import Fore\n",
    "from sklearn.metrics import mean_squared_error, mean_absolute_error\n",
    "import warnings\n",
    "warnings.filterwarnings(\"ignore\")"
   ]
  },
  {
   "cell_type": "markdown",
   "metadata": {},
   "source": [
    "### Loading Data"
   ]
  },
  {
   "cell_type": "code",
   "execution_count": 3,
   "metadata": {},
   "outputs": [
    {
     "data": {
      "text/html": [
       "<div>\n",
       "<style scoped>\n",
       "    .dataframe tbody tr th:only-of-type {\n",
       "        vertical-align: middle;\n",
       "    }\n",
       "\n",
       "    .dataframe tbody tr th {\n",
       "        vertical-align: top;\n",
       "    }\n",
       "\n",
       "    .dataframe thead th {\n",
       "        text-align: right;\n",
       "    }\n",
       "</style>\n",
       "<table border=\"1\" class=\"dataframe\">\n",
       "  <thead>\n",
       "    <tr style=\"text-align: right;\">\n",
       "      <th></th>\n",
       "      <th>Date</th>\n",
       "      <th>Rainfall_Bastia_Umbra</th>\n",
       "      <th>Depth_to_Groundwater_P24</th>\n",
       "      <th>Depth_to_Groundwater_P25</th>\n",
       "      <th>Temperature_Bastia_Umbra</th>\n",
       "      <th>Temperature_Petrignano</th>\n",
       "      <th>Volume_C10_Petrignano</th>\n",
       "      <th>Hydrometry_Fiume_Chiascio_Petrignano</th>\n",
       "    </tr>\n",
       "  </thead>\n",
       "  <tbody>\n",
       "    <tr>\n",
       "      <th>0</th>\n",
       "      <td>14/03/2006</td>\n",
       "      <td>NaN</td>\n",
       "      <td>-22.48</td>\n",
       "      <td>-22.18</td>\n",
       "      <td>NaN</td>\n",
       "      <td>NaN</td>\n",
       "      <td>NaN</td>\n",
       "      <td>NaN</td>\n",
       "    </tr>\n",
       "    <tr>\n",
       "      <th>1</th>\n",
       "      <td>15/03/2006</td>\n",
       "      <td>NaN</td>\n",
       "      <td>-22.38</td>\n",
       "      <td>-22.14</td>\n",
       "      <td>NaN</td>\n",
       "      <td>NaN</td>\n",
       "      <td>NaN</td>\n",
       "      <td>NaN</td>\n",
       "    </tr>\n",
       "    <tr>\n",
       "      <th>2</th>\n",
       "      <td>16/03/2006</td>\n",
       "      <td>NaN</td>\n",
       "      <td>-22.25</td>\n",
       "      <td>-22.04</td>\n",
       "      <td>NaN</td>\n",
       "      <td>NaN</td>\n",
       "      <td>NaN</td>\n",
       "      <td>NaN</td>\n",
       "    </tr>\n",
       "    <tr>\n",
       "      <th>3</th>\n",
       "      <td>17/03/2006</td>\n",
       "      <td>NaN</td>\n",
       "      <td>-22.38</td>\n",
       "      <td>-22.04</td>\n",
       "      <td>NaN</td>\n",
       "      <td>NaN</td>\n",
       "      <td>NaN</td>\n",
       "      <td>NaN</td>\n",
       "    </tr>\n",
       "    <tr>\n",
       "      <th>4</th>\n",
       "      <td>18/03/2006</td>\n",
       "      <td>NaN</td>\n",
       "      <td>-22.60</td>\n",
       "      <td>-22.04</td>\n",
       "      <td>NaN</td>\n",
       "      <td>NaN</td>\n",
       "      <td>NaN</td>\n",
       "      <td>NaN</td>\n",
       "    </tr>\n",
       "  </tbody>\n",
       "</table>\n",
       "</div>"
      ],
      "text/plain": [
       "         Date  Rainfall_Bastia_Umbra  Depth_to_Groundwater_P24  \\\n",
       "0  14/03/2006                    NaN                    -22.48   \n",
       "1  15/03/2006                    NaN                    -22.38   \n",
       "2  16/03/2006                    NaN                    -22.25   \n",
       "3  17/03/2006                    NaN                    -22.38   \n",
       "4  18/03/2006                    NaN                    -22.60   \n",
       "\n",
       "   Depth_to_Groundwater_P25  Temperature_Bastia_Umbra  Temperature_Petrignano  \\\n",
       "0                    -22.18                       NaN                     NaN   \n",
       "1                    -22.14                       NaN                     NaN   \n",
       "2                    -22.04                       NaN                     NaN   \n",
       "3                    -22.04                       NaN                     NaN   \n",
       "4                    -22.04                       NaN                     NaN   \n",
       "\n",
       "   Volume_C10_Petrignano  Hydrometry_Fiume_Chiascio_Petrignano  \n",
       "0                    NaN                                   NaN  \n",
       "1                    NaN                                   NaN  \n",
       "2                    NaN                                   NaN  \n",
       "3                    NaN                                   NaN  \n",
       "4                    NaN                                   NaN  "
      ]
     },
     "execution_count": 3,
     "metadata": {},
     "output_type": "execute_result"
    }
   ],
   "source": [
    "df = pd.read_csv(\"Aquifer_Petrignano.csv\")\n",
    "df.head()"
   ]
  },
  {
   "cell_type": "code",
   "execution_count": 4,
   "metadata": {},
   "outputs": [
    {
     "name": "stdout",
     "output_type": "stream",
     "text": [
      "<class 'pandas.core.frame.DataFrame'>\n",
      "RangeIndex: 5223 entries, 0 to 5222\n",
      "Data columns (total 8 columns):\n",
      " #   Column                                Non-Null Count  Dtype  \n",
      "---  ------                                --------------  -----  \n",
      " 0   Date                                  5223 non-null   object \n",
      " 1   Rainfall_Bastia_Umbra                 4199 non-null   float64\n",
      " 2   Depth_to_Groundwater_P24              5168 non-null   float64\n",
      " 3   Depth_to_Groundwater_P25              5184 non-null   float64\n",
      " 4   Temperature_Bastia_Umbra              4199 non-null   float64\n",
      " 5   Temperature_Petrignano                4199 non-null   float64\n",
      " 6   Volume_C10_Petrignano                 5025 non-null   float64\n",
      " 7   Hydrometry_Fiume_Chiascio_Petrignano  4199 non-null   float64\n",
      "dtypes: float64(7), object(1)\n",
      "memory usage: 326.6+ KB\n"
     ]
    }
   ],
   "source": [
    "df.info()"
   ]
  },
  {
   "cell_type": "code",
   "execution_count": 5,
   "metadata": {},
   "outputs": [
    {
     "data": {
      "text/plain": [
       "Date                                       0\n",
       "Rainfall_Bastia_Umbra                   1024\n",
       "Depth_to_Groundwater_P24                  55\n",
       "Depth_to_Groundwater_P25                  39\n",
       "Temperature_Bastia_Umbra                1024\n",
       "Temperature_Petrignano                  1024\n",
       "Volume_C10_Petrignano                    198\n",
       "Hydrometry_Fiume_Chiascio_Petrignano    1024\n",
       "dtype: int64"
      ]
     },
     "execution_count": 5,
     "metadata": {},
     "output_type": "execute_result"
    }
   ],
   "source": [
    "df.isnull().sum()"
   ]
  },
  {
   "cell_type": "code",
   "execution_count": 6,
   "metadata": {},
   "outputs": [],
   "source": [
    "# Removing old rows\n",
    "df = df[df[\"Rainfall_Bastia_Umbra\"].notna()].reset_index(drop=True)\n",
    "# Removing not usefull columns\n",
    "df = df.drop([\"Depth_to_Groundwater_P24\", \"Temperature_Petrignano\"], axis=1)"
   ]
  },
  {
   "cell_type": "code",
   "execution_count": 8,
   "metadata": {},
   "outputs": [
    {
     "data": {
      "text/html": [
       "<div>\n",
       "<style scoped>\n",
       "    .dataframe tbody tr th:only-of-type {\n",
       "        vertical-align: middle;\n",
       "    }\n",
       "\n",
       "    .dataframe tbody tr th {\n",
       "        vertical-align: top;\n",
       "    }\n",
       "\n",
       "    .dataframe thead th {\n",
       "        text-align: right;\n",
       "    }\n",
       "</style>\n",
       "<table border=\"1\" class=\"dataframe\">\n",
       "  <thead>\n",
       "    <tr style=\"text-align: right;\">\n",
       "      <th></th>\n",
       "      <th>date</th>\n",
       "      <th>rainfall</th>\n",
       "      <th>depth_to_groundwater</th>\n",
       "      <th>temperature</th>\n",
       "      <th>drainage_volume</th>\n",
       "      <th>river_hydrometry</th>\n",
       "    </tr>\n",
       "  </thead>\n",
       "  <tbody>\n",
       "    <tr>\n",
       "      <th>0</th>\n",
       "      <td>01/01/2009</td>\n",
       "      <td>0.0</td>\n",
       "      <td>-31.14</td>\n",
       "      <td>5.2</td>\n",
       "      <td>-24530.688</td>\n",
       "      <td>2.4</td>\n",
       "    </tr>\n",
       "    <tr>\n",
       "      <th>1</th>\n",
       "      <td>02/01/2009</td>\n",
       "      <td>0.0</td>\n",
       "      <td>-31.11</td>\n",
       "      <td>2.3</td>\n",
       "      <td>-28785.888</td>\n",
       "      <td>2.5</td>\n",
       "    </tr>\n",
       "    <tr>\n",
       "      <th>2</th>\n",
       "      <td>03/01/2009</td>\n",
       "      <td>0.0</td>\n",
       "      <td>-31.07</td>\n",
       "      <td>4.4</td>\n",
       "      <td>-25766.208</td>\n",
       "      <td>2.4</td>\n",
       "    </tr>\n",
       "    <tr>\n",
       "      <th>3</th>\n",
       "      <td>04/01/2009</td>\n",
       "      <td>0.0</td>\n",
       "      <td>-31.05</td>\n",
       "      <td>0.8</td>\n",
       "      <td>-27919.296</td>\n",
       "      <td>2.4</td>\n",
       "    </tr>\n",
       "    <tr>\n",
       "      <th>4</th>\n",
       "      <td>05/01/2009</td>\n",
       "      <td>0.0</td>\n",
       "      <td>-31.01</td>\n",
       "      <td>-1.9</td>\n",
       "      <td>-29854.656</td>\n",
       "      <td>2.3</td>\n",
       "    </tr>\n",
       "  </tbody>\n",
       "</table>\n",
       "</div>"
      ],
      "text/plain": [
       "         date  rainfall  depth_to_groundwater  temperature  drainage_volume  \\\n",
       "0  01/01/2009       0.0                -31.14          5.2       -24530.688   \n",
       "1  02/01/2009       0.0                -31.11          2.3       -28785.888   \n",
       "2  03/01/2009       0.0                -31.07          4.4       -25766.208   \n",
       "3  04/01/2009       0.0                -31.05          0.8       -27919.296   \n",
       "4  05/01/2009       0.0                -31.01         -1.9       -29854.656   \n",
       "\n",
       "   river_hydrometry  \n",
       "0               2.4  \n",
       "1               2.5  \n",
       "2               2.4  \n",
       "3               2.4  \n",
       "4               2.3  "
      ]
     },
     "execution_count": 8,
     "metadata": {},
     "output_type": "execute_result"
    }
   ],
   "source": [
    "# Simplifying column names\n",
    "df.columns = [\"date\", \"rainfall\", \"depth_to_groundwater\", \"temperature\", \"drainage_volume\", \"river_hydrometry\"]\n",
    "\n",
    "target = [\"depth_to_groundwater\"]\n",
    "features = [feature for feature in df.columns if feature not in target]\n",
    "df.head()"
   ]
  }
 ],
 "metadata": {
  "kernelspec": {
   "display_name": "base",
   "language": "python",
   "name": "python3"
  },
  "language_info": {
   "codemirror_mode": {
    "name": "ipython",
    "version": 3
   },
   "file_extension": ".py",
   "mimetype": "text/x-python",
   "name": "python",
   "nbconvert_exporter": "python",
   "pygments_lexer": "ipython3",
   "version": "3.11.7"
  }
 },
 "nbformat": 4,
 "nbformat_minor": 2
}
